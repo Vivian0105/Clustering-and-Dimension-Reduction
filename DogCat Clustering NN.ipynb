{
 "cells": [
  {
   "cell_type": "code",
   "execution_count": 49,
   "metadata": {},
   "outputs": [],
   "source": [
    "import numpy as np\n",
    "import pandas as pd\n",
    "from collections import Counter\n",
    "import matplotlib.pyplot as plt\n",
    "from sklearn.metrics import accuracy_score\n",
    "import pickle\n",
    "import math\n",
    "from sklearn.utils import shuffle\n",
    "import tensorflow as tf\n",
    "from sklearn.model_selection import train_test_split\n",
    "import time\n",
    "from sklearn.cluster import KMeans \n",
    "from sklearn.mixture import GaussianMixture"
   ]
  },
  {
   "cell_type": "code",
   "execution_count": 26,
   "metadata": {},
   "outputs": [
    {
     "data": {
      "text/plain": [
       "(24946, 2500)"
      ]
     },
     "execution_count": 26,
     "metadata": {},
     "output_type": "execute_result"
    }
   ],
   "source": [
    "pickle_in=open(\"DogCatX.pickle\",'rb')\n",
    "DogCatX=pickle.load(pickle_in)\n",
    "pickle_in.close()\n",
    "pickle_in=open('DogCaty.pickle','rb')\n",
    "DogCaty=pickle.load(pickle_in)\n",
    "pickle_in.close()\n",
    "DogCatX=np.reshape(DogCatX,(24946,2500))\n",
    "DogCatX.shape"
   ]
  },
  {
   "cell_type": "code",
   "execution_count": 27,
   "metadata": {},
   "outputs": [],
   "source": [
    "DogCatX,DogCaty=shuffle(DogCatX,DogCaty,random_state=0)\n",
    "DogCatX=tf.keras.utils.normalize(DogCatX,axis=1)"
   ]
  },
  {
   "cell_type": "code",
   "execution_count": 28,
   "metadata": {},
   "outputs": [],
   "source": [
    "kmeans=KMeans(n_clusters=2,n_init=30,random_state=2)\n",
    "kmeans.fit(DogCatX)\n",
    "Yk=kmeans.labels_"
   ]
  },
  {
   "cell_type": "code",
   "execution_count": 39,
   "metadata": {},
   "outputs": [],
   "source": [
    "DogCatXK= np.zeros((24946,2501))"
   ]
  },
  {
   "cell_type": "code",
   "execution_count": 40,
   "metadata": {},
   "outputs": [],
   "source": [
    "for i in range(DogCatX.shape[0]):\n",
    "    DogCatXK[i]=np.append(DogCatX[i], Yk[i])"
   ]
  },
  {
   "cell_type": "code",
   "execution_count": 44,
   "metadata": {},
   "outputs": [],
   "source": [
    "X_train,X_test,y_train,y_test=train_test_split(DogCatXK,DogCaty,random_state=5,test_size=0.25)\n",
    "y_train=np.array(y_train)\n",
    "y_test=np.array(y_test)"
   ]
  },
  {
   "cell_type": "code",
   "execution_count": 55,
   "metadata": {
    "scrolled": true
   },
   "outputs": [
    {
     "name": "stdout",
     "output_type": "stream",
     "text": [
      "Train on 18709 samples, validate on 6237 samples\n",
      "Epoch 1/30\n",
      "18709/18709 [==============================] - 3s 181us/step - loss: 0.6782 - acc: 0.5716 - val_loss: 0.6693 - val_acc: 0.5907\n",
      "Epoch 2/30\n",
      "18709/18709 [==============================] - 3s 176us/step - loss: 0.6630 - acc: 0.6057 - val_loss: 0.6604 - val_acc: 0.5977\n",
      "Epoch 3/30\n",
      "18709/18709 [==============================] - 4s 201us/step - loss: 0.6566 - acc: 0.6106 - val_loss: 0.6589 - val_acc: 0.5964\n",
      "Epoch 4/30\n",
      "18709/18709 [==============================] - 4s 192us/step - loss: 0.6505 - acc: 0.6173 - val_loss: 0.6670 - val_acc: 0.5945\n",
      "Epoch 5/30\n",
      "18709/18709 [==============================] - 3s 162us/step - loss: 0.6462 - acc: 0.6258 - val_loss: 0.6550 - val_acc: 0.6146\n",
      "Epoch 6/30\n",
      "18709/18709 [==============================] - 3s 164us/step - loss: 0.6429 - acc: 0.6290 - val_loss: 0.6546 - val_acc: 0.6133\n",
      "Epoch 7/30\n",
      "18709/18709 [==============================] - 3s 161us/step - loss: 0.6391 - acc: 0.6342 - val_loss: 0.6910 - val_acc: 0.5730\n",
      "Epoch 8/30\n",
      "18709/18709 [==============================] - 3s 176us/step - loss: 0.6380 - acc: 0.6348 - val_loss: 0.6550 - val_acc: 0.6008\n",
      "Epoch 9/30\n",
      "18709/18709 [==============================] - 3s 183us/step - loss: 0.6334 - acc: 0.6409 - val_loss: 0.6505 - val_acc: 0.6120\n",
      "Epoch 10/30\n",
      "18709/18709 [==============================] - 3s 176us/step - loss: 0.6298 - acc: 0.6413 - val_loss: 0.6534 - val_acc: 0.6165\n",
      "Epoch 11/30\n",
      "18709/18709 [==============================] - 3s 187us/step - loss: 0.6236 - acc: 0.6521 - val_loss: 0.7262 - val_acc: 0.5724\n",
      "Epoch 12/30\n",
      "18709/18709 [==============================] - 3s 176us/step - loss: 0.6233 - acc: 0.6510 - val_loss: 0.6577 - val_acc: 0.6061\n",
      "Epoch 13/30\n",
      "18709/18709 [==============================] - 3s 175us/step - loss: 0.6185 - acc: 0.6571 - val_loss: 0.6492 - val_acc: 0.6211\n",
      "Epoch 14/30\n",
      "18709/18709 [==============================] - 3s 186us/step - loss: 0.6123 - acc: 0.6614 - val_loss: 0.6565 - val_acc: 0.6232\n",
      "Epoch 15/30\n",
      "18709/18709 [==============================] - 3s 183us/step - loss: 0.6088 - acc: 0.6632 - val_loss: 0.6648 - val_acc: 0.6057\n",
      "Epoch 16/30\n",
      "18709/18709 [==============================] - 3s 181us/step - loss: 0.6033 - acc: 0.6686 - val_loss: 0.6612 - val_acc: 0.6146\n",
      "Epoch 17/30\n",
      "18709/18709 [==============================] - 3s 183us/step - loss: 0.5999 - acc: 0.6750 - val_loss: 0.6507 - val_acc: 0.6174\n",
      "Epoch 18/30\n",
      "18709/18709 [==============================] - 3s 165us/step - loss: 0.5957 - acc: 0.6746 - val_loss: 0.6507 - val_acc: 0.6205\n",
      "Epoch 19/30\n",
      "18709/18709 [==============================] - 3s 180us/step - loss: 0.5903 - acc: 0.6799 - val_loss: 0.6596 - val_acc: 0.6221\n",
      "Epoch 20/30\n",
      "18709/18709 [==============================] - 3s 179us/step - loss: 0.5883 - acc: 0.6827 - val_loss: 0.6661 - val_acc: 0.6176\n",
      "Epoch 21/30\n",
      "18709/18709 [==============================] - 3s 160us/step - loss: 0.5828 - acc: 0.6859 - val_loss: 0.6595 - val_acc: 0.6147\n",
      "Epoch 22/30\n",
      "18709/18709 [==============================] - 4s 190us/step - loss: 0.5747 - acc: 0.6974 - val_loss: 0.6804 - val_acc: 0.6045\n",
      "Epoch 23/30\n",
      "18709/18709 [==============================] - 3s 181us/step - loss: 0.5738 - acc: 0.6956 - val_loss: 0.7131 - val_acc: 0.5761\n",
      "Epoch 24/30\n",
      "18709/18709 [==============================] - 3s 178us/step - loss: 0.5666 - acc: 0.6999 - val_loss: 0.6635 - val_acc: 0.6205\n",
      "Epoch 25/30\n",
      "18709/18709 [==============================] - 3s 171us/step - loss: 0.5635 - acc: 0.7060 - val_loss: 0.6704 - val_acc: 0.6247\n",
      "Epoch 26/30\n",
      "18709/18709 [==============================] - 3s 177us/step - loss: 0.5553 - acc: 0.7112 - val_loss: 0.6863 - val_acc: 0.6142\n",
      "Epoch 27/30\n",
      "18709/18709 [==============================] - 3s 176us/step - loss: 0.5520 - acc: 0.7136 - val_loss: 0.6772 - val_acc: 0.6112\n",
      "Epoch 28/30\n",
      "18709/18709 [==============================] - 3s 157us/step - loss: 0.5442 - acc: 0.7212 - val_loss: 0.7020 - val_acc: 0.6123\n",
      "Epoch 29/30\n",
      "18709/18709 [==============================] - 3s 172us/step - loss: 0.5430 - acc: 0.7164 - val_loss: 0.6935 - val_acc: 0.6186\n",
      "Epoch 30/30\n",
      "18709/18709 [==============================] - 3s 148us/step - loss: 0.5384 - acc: 0.7246 - val_loss: 0.6932 - val_acc: 0.6198\n"
     ]
    }
   ],
   "source": [
    "    X_train,y_train=shuffle(X_train,y_train,random_state=0)\n",
    "    time_start=time.clock()\n",
    "    model=tf.keras.models.Sequential()\n",
    "    model.add(tf.keras.layers.Flatten())\n",
    "    model.add(tf.keras.layers.Dense(100,activation=tf.nn.relu))\n",
    "    model.add(tf.keras.layers.Dense(100,activation=tf.nn.relu))\n",
    "    model.add(tf.keras.layers.Dense(2,activation=tf.nn.softmax))\n",
    "    model.compile(optimizer='adam',loss='sparse_categorical_crossentropy',\n",
    "                  metrics=['accuracy'])\n",
    "    history=model.fit(X_train,y_train,epochs=30,validation_data = (X_test, y_test))     \n",
    "    learn_time=time.clock()-time_start"
   ]
  },
  {
   "cell_type": "code",
   "execution_count": 56,
   "metadata": {},
   "outputs": [
    {
     "name": "stdout",
     "output_type": "stream",
     "text": [
      "learn_time: 99.33925991535415\n"
     ]
    }
   ],
   "source": [
    "print('learn_time:',learn_time)"
   ]
  },
  {
   "cell_type": "code",
   "execution_count": 57,
   "metadata": {},
   "outputs": [],
   "source": [
    "EM=GaussianMixture(n_components=2,random_state=3)\n",
    "EM.fit(DogCatX)\n",
    "yEM=EM.predict(DogCatX)"
   ]
  },
  {
   "cell_type": "code",
   "execution_count": 58,
   "metadata": {},
   "outputs": [],
   "source": [
    "DogCatXEM= np.zeros((24946,2501))\n",
    "for i in range(DogCatX.shape[0]):\n",
    "    DogCatXEM[i]=np.append(DogCatX[i], yEM[i])"
   ]
  },
  {
   "cell_type": "code",
   "execution_count": 59,
   "metadata": {},
   "outputs": [],
   "source": [
    "X_train2,X_test2,y_train2,y_test2=train_test_split(DogCatXEM,DogCaty,random_state=5,test_size=0.25)\n",
    "y_train2=np.array(y_train2)\n",
    "y_test2=np.array(y_test2)"
   ]
  },
  {
   "cell_type": "code",
   "execution_count": 60,
   "metadata": {
    "scrolled": true
   },
   "outputs": [
    {
     "name": "stdout",
     "output_type": "stream",
     "text": [
      "Train on 18709 samples, validate on 6237 samples\n",
      "Epoch 1/30\n",
      "18709/18709 [==============================] - 4s 192us/step - loss: 0.6756 - acc: 0.5650 - val_loss: 0.6680 - val_acc: 0.5961\n",
      "Epoch 2/30\n",
      "18709/18709 [==============================] - 3s 174us/step - loss: 0.6572 - acc: 0.6005 - val_loss: 0.6533 - val_acc: 0.6122\n",
      "Epoch 3/30\n",
      "18709/18709 [==============================] - 3s 174us/step - loss: 0.6515 - acc: 0.6133 - val_loss: 0.6602 - val_acc: 0.6011\n",
      "Epoch 4/30\n",
      "18709/18709 [==============================] - 3s 170us/step - loss: 0.6453 - acc: 0.6196 - val_loss: 0.6472 - val_acc: 0.6166\n",
      "Epoch 5/30\n",
      "18709/18709 [==============================] - 3s 179us/step - loss: 0.6390 - acc: 0.6290 - val_loss: 0.6448 - val_acc: 0.6248\n",
      "Epoch 6/30\n",
      "18709/18709 [==============================] - 3s 169us/step - loss: 0.6328 - acc: 0.6373 - val_loss: 0.6585 - val_acc: 0.6210\n",
      "Epoch 7/30\n",
      "18709/18709 [==============================] - 3s 169us/step - loss: 0.6301 - acc: 0.6388 - val_loss: 0.6424 - val_acc: 0.6242\n",
      "Epoch 8/30\n",
      "18709/18709 [==============================] - 3s 167us/step - loss: 0.6249 - acc: 0.6423 - val_loss: 0.6448 - val_acc: 0.6242\n",
      "Epoch 9/30\n",
      "18709/18709 [==============================] - 3s 166us/step - loss: 0.6220 - acc: 0.6482 - val_loss: 0.6439 - val_acc: 0.6248\n",
      "Epoch 10/30\n",
      "18709/18709 [==============================] - 3s 171us/step - loss: 0.6207 - acc: 0.6511 - val_loss: 0.6518 - val_acc: 0.6242\n",
      "Epoch 11/30\n",
      "18709/18709 [==============================] - 3s 177us/step - loss: 0.6172 - acc: 0.6548 - val_loss: 0.6499 - val_acc: 0.6258\n",
      "Epoch 12/30\n",
      "18709/18709 [==============================] - 3s 178us/step - loss: 0.6133 - acc: 0.6563 - val_loss: 0.6622 - val_acc: 0.6152\n",
      "Epoch 13/30\n",
      "18709/18709 [==============================] - 3s 171us/step - loss: 0.6072 - acc: 0.6628 - val_loss: 0.6447 - val_acc: 0.6277\n",
      "Epoch 14/30\n",
      "18709/18709 [==============================] - 3s 169us/step - loss: 0.6044 - acc: 0.6660 - val_loss: 0.6437 - val_acc: 0.6288\n",
      "Epoch 15/30\n",
      "18709/18709 [==============================] - 3s 170us/step - loss: 0.6006 - acc: 0.6705 - val_loss: 0.6639 - val_acc: 0.6213\n",
      "Epoch 16/30\n",
      "18709/18709 [==============================] - 3s 171us/step - loss: 0.5959 - acc: 0.6743 - val_loss: 0.6505 - val_acc: 0.6312\n",
      "Epoch 17/30\n",
      "18709/18709 [==============================] - 3s 179us/step - loss: 0.5907 - acc: 0.6783 - val_loss: 0.6570 - val_acc: 0.6256\n",
      "Epoch 18/30\n",
      "18709/18709 [==============================] - 4s 191us/step - loss: 0.5862 - acc: 0.6830 - val_loss: 0.6559 - val_acc: 0.6267\n",
      "Epoch 19/30\n",
      "18709/18709 [==============================] - 3s 165us/step - loss: 0.5826 - acc: 0.6842 - val_loss: 0.6546 - val_acc: 0.6279\n",
      "Epoch 20/30\n",
      "18709/18709 [==============================] - 3s 167us/step - loss: 0.5764 - acc: 0.6883 - val_loss: 0.6522 - val_acc: 0.6237\n",
      "Epoch 21/30\n",
      "18709/18709 [==============================] - 3s 169us/step - loss: 0.5711 - acc: 0.6948 - val_loss: 0.6602 - val_acc: 0.6288\n",
      "Epoch 22/30\n",
      "18709/18709 [==============================] - 3s 184us/step - loss: 0.5662 - acc: 0.6985 - val_loss: 0.6594 - val_acc: 0.6279\n",
      "Epoch 23/30\n",
      "18709/18709 [==============================] - 3s 177us/step - loss: 0.5616 - acc: 0.7035 - val_loss: 0.6882 - val_acc: 0.6176\n",
      "Epoch 24/30\n",
      "18709/18709 [==============================] - 4s 232us/step - loss: 0.5543 - acc: 0.7084 - val_loss: 0.6795 - val_acc: 0.6296\n",
      "Epoch 25/30\n",
      "18709/18709 [==============================] - 4s 206us/step - loss: 0.5504 - acc: 0.7126 - val_loss: 0.6678 - val_acc: 0.6208\n",
      "Epoch 26/30\n",
      "18709/18709 [==============================] - 3s 181us/step - loss: 0.5475 - acc: 0.7124 - val_loss: 0.6695 - val_acc: 0.6255\n",
      "Epoch 27/30\n",
      "18709/18709 [==============================] - 4s 193us/step - loss: 0.5405 - acc: 0.7176 - val_loss: 0.7216 - val_acc: 0.6231\n",
      "Epoch 28/30\n",
      "18709/18709 [==============================] - 3s 167us/step - loss: 0.5410 - acc: 0.7184 - val_loss: 0.6766 - val_acc: 0.6341\n",
      "Epoch 29/30\n",
      "18709/18709 [==============================] - 3s 161us/step - loss: 0.5302 - acc: 0.7259 - val_loss: 0.7183 - val_acc: 0.6243\n",
      "Epoch 30/30\n",
      "18709/18709 [==============================] - 3s 163us/step - loss: 0.5215 - acc: 0.7340 - val_loss: 0.6986 - val_acc: 0.6163\n"
     ]
    }
   ],
   "source": [
    "    X_train2,y_train2=shuffle(X_train2,y_train2,random_state=0)\n",
    "    time_start=time.clock()\n",
    "    model=tf.keras.models.Sequential()\n",
    "    model.add(tf.keras.layers.Flatten())\n",
    "    model.add(tf.keras.layers.Dense(100,activation=tf.nn.relu))\n",
    "    model.add(tf.keras.layers.Dense(100,activation=tf.nn.relu))\n",
    "    model.add(tf.keras.layers.Dense(2,activation=tf.nn.softmax))\n",
    "    model.compile(optimizer='adam',loss='sparse_categorical_crossentropy',\n",
    "                  metrics=['accuracy'])\n",
    "    history=model.fit(X_train2,y_train2,epochs=30,validation_data = (X_test2, y_test2))  \n",
    "    learn_time=time.clock()-time_start"
   ]
  },
  {
   "cell_type": "code",
   "execution_count": 61,
   "metadata": {},
   "outputs": [
    {
     "name": "stdout",
     "output_type": "stream",
     "text": [
      "learn_time: 99.65823381403106\n"
     ]
    }
   ],
   "source": [
    "print('learn_time:',learn_time)"
   ]
  },
  {
   "cell_type": "code",
   "execution_count": null,
   "metadata": {},
   "outputs": [],
   "source": []
  }
 ],
 "metadata": {
  "kernelspec": {
   "display_name": "Python 3",
   "language": "python",
   "name": "python3"
  },
  "language_info": {
   "codemirror_mode": {
    "name": "ipython",
    "version": 3
   },
   "file_extension": ".py",
   "mimetype": "text/x-python",
   "name": "python",
   "nbconvert_exporter": "python",
   "pygments_lexer": "ipython3",
   "version": "3.6.5"
  }
 },
 "nbformat": 4,
 "nbformat_minor": 2
}
