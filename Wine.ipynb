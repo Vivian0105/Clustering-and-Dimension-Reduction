{
 "cells": [
  {
   "cell_type": "code",
   "execution_count": 26,
   "metadata": {},
   "outputs": [],
   "source": [
    "import pandas as pd\n",
    "from sklearn.cluster import KMeans  \n",
    "from collections import Counter\n",
    "import numpy as np\n",
    "from sklearn.mixture import GaussianMixture\n",
    "from sklearn.decomposition import PCA\n",
    "import matplotlib.pyplot as plt\n",
    "import tensorflow as tf\n",
    "from sklearn.preprocessing import StandardScaler"
   ]
  },
  {
   "cell_type": "code",
   "execution_count": 2,
   "metadata": {},
   "outputs": [],
   "source": [
    "data=pd.read_excel('E:\\Machine Learning\\HW3\\Wine.xlsx')"
   ]
  },
  {
   "cell_type": "code",
   "execution_count": 3,
   "metadata": {},
   "outputs": [],
   "source": [
    "y=data['Class']"
   ]
  },
  {
   "cell_type": "code",
   "execution_count": 4,
   "metadata": {},
   "outputs": [],
   "source": [
    "X = data.drop('Class',axis=1)"
   ]
  },
  {
   "cell_type": "code",
   "execution_count": 22,
   "metadata": {},
   "outputs": [
    {
     "data": {
      "text/plain": [
       "KMeans(algorithm='auto', copy_x=True, init='k-means++', max_iter=300,\n",
       "    n_clusters=3, n_init=100, n_jobs=None, precompute_distances='auto',\n",
       "    random_state=4, tol=0.0001, verbose=0)"
      ]
     },
     "execution_count": 22,
     "metadata": {},
     "output_type": "execute_result"
    }
   ],
   "source": [
    "kmeans=KMeans(n_clusters=3,random_state=4,n_init=100)\n",
    "kmeans.fit(X)"
   ]
  },
  {
   "cell_type": "code",
   "execution_count": 124,
   "metadata": {},
   "outputs": [
    {
     "name": "stdout",
     "output_type": "stream",
     "text": [
      "finalacc: 0.7022471910112373\n",
      "index: [1, 0, 2]\n"
     ]
    }
   ],
   "source": [
    "yp=kmeans.labels_\n",
    "order=[[1,2,0],[1,0,2],[2,1,0],[2,0,1],[0,1,2],[0,2,1]]\n",
    "accurate=0\n",
    "finalacc=0\n",
    "for k in order:\n",
    "    for i in range(len(y)):\n",
    "        if y[i]==1 and yp[i]==k[0]:\n",
    "            accurate=accurate+1/len(y)\n",
    "        elif y[i]==2 and yp[i]==k[1]:\n",
    "            accurate=accurate+1/len(y)\n",
    "        elif y[i]==3 and yp[i]==k[2]:\n",
    "            accurate+=1/len(y)\n",
    "    if accurate>finalacc:\n",
    "        finalacc=accurate\n",
    "        index=k\n",
    "    accurate=0\n",
    "print('finalacc:',finalacc)\n",
    "print('index:',index)"
   ]
  },
  {
   "cell_type": "code",
   "execution_count": 28,
   "metadata": {},
   "outputs": [
    {
     "name": "stderr",
     "output_type": "stream",
     "text": [
      "C:\\Users\\huimi\\Anaconda3\\lib\\site-packages\\sklearn\\preprocessing\\data.py:625: DataConversionWarning: Data with input dtype int64, float64 were all converted to float64 by StandardScaler.\n",
      "  return self.partial_fit(X, y)\n",
      "C:\\Users\\huimi\\Anaconda3\\lib\\site-packages\\sklearn\\base.py:462: DataConversionWarning: Data with input dtype int64, float64 were all converted to float64 by StandardScaler.\n",
      "  return self.fit(X, **fit_params).transform(X)\n"
     ]
    }
   ],
   "source": [
    "X2=StandardScaler().fit_transform(X)"
   ]
  },
  {
   "cell_type": "code",
   "execution_count": 38,
   "metadata": {},
   "outputs": [
    {
     "data": {
      "text/plain": [
       "KMeans(algorithm='auto', copy_x=True, init='k-means++', max_iter=300,\n",
       "    n_clusters=3, n_init=100, n_jobs=None, precompute_distances='auto',\n",
       "    random_state=4, tol=0.0001, verbose=0)"
      ]
     },
     "execution_count": 38,
     "metadata": {},
     "output_type": "execute_result"
    }
   ],
   "source": [
    "kmeans2=KMeans(n_clusters=3,random_state=4,n_init=100)\n",
    "kmeans2.fit(X2)"
   ]
  },
  {
   "cell_type": "code",
   "execution_count": 125,
   "metadata": {},
   "outputs": [
    {
     "name": "stdout",
     "output_type": "stream",
     "text": [
      "finalacc: 0.9662921348314627\n",
      "index: [2, 1, 0]\n"
     ]
    }
   ],
   "source": [
    "yp2=kmeans2.labels_\n",
    "order=[[1,2,0],[1,0,2],[2,1,0],[2,0,1],[0,1,2],[0,2,1]]\n",
    "accurate=0\n",
    "finalacc=0\n",
    "for k in order:\n",
    "    for i in range(len(y)):\n",
    "        if y[i]==1 and yp2[i]==k[0]:\n",
    "            accurate=accurate+1/len(y)\n",
    "        elif y[i]==2 and yp2[i]==k[1]:\n",
    "            accurate=accurate+1/len(y)\n",
    "        elif y[i]==3 and yp2[i]==k[2]:\n",
    "            accurate+=1/len(y)\n",
    "    if accurate>finalacc:\n",
    "        finalacc=accurate\n",
    "        index=k\n",
    "    accurate=0\n",
    "print('finalacc:',finalacc)\n",
    "print('index:',index)"
   ]
  },
  {
   "cell_type": "code",
   "execution_count": 127,
   "metadata": {},
   "outputs": [
    {
     "data": {
      "text/plain": [
       "GaussianMixture(covariance_type='full', init_params='kmeans', max_iter=100,\n",
       "        means_init=None, n_components=3, n_init=1, precisions_init=None,\n",
       "        random_state=None, reg_covar=1e-06, tol=0.001, verbose=0,\n",
       "        verbose_interval=10, warm_start=False, weights_init=None)"
      ]
     },
     "execution_count": 127,
     "metadata": {},
     "output_type": "execute_result"
    }
   ],
   "source": [
    "EM=GaussianMixture(n_components=3)\n",
    "EM.fit(X2)"
   ]
  },
  {
   "cell_type": "code",
   "execution_count": 128,
   "metadata": {},
   "outputs": [
    {
     "name": "stdout",
     "output_type": "stream",
     "text": [
      "finalacc: 0.9662921348314627\n",
      "index: [0, 1, 2]\n"
     ]
    }
   ],
   "source": [
    "y_EMp=EM.predict(X2)\n",
    "order=[[1,2,0],[1,0,2],[2,1,0],[2,0,1],[0,1,2],[0,2,1]]\n",
    "accurate=0\n",
    "finalacc=0\n",
    "for k in order:\n",
    "    for i in range(len(y)):\n",
    "        if y[i]==1 and y_EMp[i]==k[0]:\n",
    "            accurate=accurate+1/len(y)\n",
    "        elif y[i]==2 and y_EMp[i]==k[1]:\n",
    "            accurate=accurate+1/len(y)\n",
    "        elif y[i]==3 and y_EMp[i]==k[2]:\n",
    "            accurate+=1/len(y)\n",
    "    if accurate>finalacc:\n",
    "        finalacc=accurate\n",
    "        index=k\n",
    "    accurate=0\n",
    "print('finalacc:',finalacc)\n",
    "print('index:',index)"
   ]
  },
  {
   "cell_type": "code",
   "execution_count": 53,
   "metadata": {},
   "outputs": [
    {
     "data": {
      "text/plain": [
       "array([-8.38280756e-16, -1.19754394e-16, -8.37033314e-16, -3.99181312e-17,\n",
       "       -3.99181312e-17,  0.00000000e+00, -3.99181312e-16,  3.59263181e-16,\n",
       "       -1.19754394e-16,  2.49488320e-17,  1.99590656e-16,  3.19345050e-16,\n",
       "       -1.59672525e-16])"
      ]
     },
     "execution_count": 53,
     "metadata": {},
     "output_type": "execute_result"
    }
   ],
   "source": [
    "X2.mean(axis=0)"
   ]
  },
  {
   "cell_type": "code",
   "execution_count": 54,
   "metadata": {},
   "outputs": [
    {
     "data": {
      "text/plain": [
       "array([ 0.16490746,  0.87154706,  0.18689833,  0.52436746, -0.07547277,\n",
       "       -0.97933029, -1.21524764,  0.72606354, -0.77970639,  0.94153874,\n",
       "       -1.16478865, -1.29241163, -0.40708796])"
      ]
     },
     "execution_count": 54,
     "metadata": {},
     "output_type": "execute_result"
    }
   ],
   "source": [
    "X2[yp2==0].mean(axis=0)"
   ]
  },
  {
   "cell_type": "code",
   "execution_count": 56,
   "metadata": {},
   "outputs": [
    {
     "data": {
      "text/plain": [
       "array([-0.92607185, -0.39404154, -0.49451676,  0.17060184, -0.49171185,\n",
       "       -0.07598265,  0.02081257, -0.03353357,  0.0582655 , -0.90191402,\n",
       "        0.46180361,  0.27076419, -0.75384618])"
      ]
     },
     "execution_count": 56,
     "metadata": {},
     "output_type": "execute_result"
    }
   ],
   "source": [
    "X2[yp2==1].mean(axis=0)"
   ]
  },
  {
   "cell_type": "code",
   "execution_count": 57,
   "metadata": {},
   "outputs": [
    {
     "data": {
      "text/plain": [
       "array([ 0.83523208, -0.30380968,  0.36470604, -0.61019129,  0.5775868 ,\n",
       "        0.88523736,  0.97781956, -0.56208965,  0.58028658,  0.17106348,\n",
       "        0.47398365,  0.77924711,  1.12518529])"
      ]
     },
     "execution_count": 57,
     "metadata": {},
     "output_type": "execute_result"
    }
   ],
   "source": [
    "X2[yp2==2].mean(axis=0)"
   ]
  },
  {
   "cell_type": "code",
   "execution_count": 103,
   "metadata": {},
   "outputs": [],
   "source": [
    "pca=PCA(n_components=2)\n",
    "principalComponents=pca.fit_transform(X2)\n",
    "principalDf=pd.DataFrame(data=principalComponents, columns=\n",
    "                        ['pc1','pc2'])"
   ]
  },
  {
   "cell_type": "code",
   "execution_count": 104,
   "metadata": {},
   "outputs": [],
   "source": [
    "finalDf=pd.concat([principalDf,y],axis=1)"
   ]
  },
  {
   "cell_type": "code",
   "execution_count": 50,
   "metadata": {},
   "outputs": [
    {
     "data": {
      "text/html": [
       "<div>\n",
       "<style scoped>\n",
       "    .dataframe tbody tr th:only-of-type {\n",
       "        vertical-align: middle;\n",
       "    }\n",
       "\n",
       "    .dataframe tbody tr th {\n",
       "        vertical-align: top;\n",
       "    }\n",
       "\n",
       "    .dataframe thead th {\n",
       "        text-align: right;\n",
       "    }\n",
       "</style>\n",
       "<table border=\"1\" class=\"dataframe\">\n",
       "  <thead>\n",
       "    <tr style=\"text-align: right;\">\n",
       "      <th></th>\n",
       "      <th>pc1</th>\n",
       "      <th>pc2</th>\n",
       "      <th>Class</th>\n",
       "    </tr>\n",
       "  </thead>\n",
       "  <tbody>\n",
       "    <tr>\n",
       "      <th>0</th>\n",
       "      <td>3.316751</td>\n",
       "      <td>-1.443463</td>\n",
       "      <td>1</td>\n",
       "    </tr>\n",
       "    <tr>\n",
       "      <th>1</th>\n",
       "      <td>2.209465</td>\n",
       "      <td>0.333393</td>\n",
       "      <td>1</td>\n",
       "    </tr>\n",
       "    <tr>\n",
       "      <th>2</th>\n",
       "      <td>2.516740</td>\n",
       "      <td>-1.031151</td>\n",
       "      <td>1</td>\n",
       "    </tr>\n",
       "    <tr>\n",
       "      <th>3</th>\n",
       "      <td>3.757066</td>\n",
       "      <td>-2.756372</td>\n",
       "      <td>1</td>\n",
       "    </tr>\n",
       "    <tr>\n",
       "      <th>4</th>\n",
       "      <td>1.008908</td>\n",
       "      <td>-0.869831</td>\n",
       "      <td>1</td>\n",
       "    </tr>\n",
       "  </tbody>\n",
       "</table>\n",
       "</div>"
      ],
      "text/plain": [
       "        pc1       pc2  Class\n",
       "0  3.316751 -1.443463      1\n",
       "1  2.209465  0.333393      1\n",
       "2  2.516740 -1.031151      1\n",
       "3  3.757066 -2.756372      1\n",
       "4  1.008908 -0.869831      1"
      ]
     },
     "execution_count": 50,
     "metadata": {},
     "output_type": "execute_result"
    }
   ],
   "source": [
    "finalDf.head()"
   ]
  },
  {
   "cell_type": "code",
   "execution_count": 105,
   "metadata": {},
   "outputs": [
    {
     "data": {
      "image/png": "[encoded data removed]",
      "text/plain": [
       "<Figure size 576x576 with 1 Axes>"
      ]
     },
     "metadata": {},
     "output_type": "display_data"
    }
   ],
   "source": [
    "fig = plt.figure(figsize = (8,8))\n",
    "ax = fig.add_subplot(1,1,1) \n",
    "ax.set_xlabel('Principal Component 1', fontsize = 15)\n",
    "ax.set_ylabel('Principal Component 2', fontsize = 15)\n",
    "ax.set_title('Wine 2 component PCA', fontsize = 20)\n",
    "targets = [1, 2,3]\n",
    "colors = ['r', 'g','b']\n",
    "for target, color in zip(targets,colors):\n",
    "    indicesToKeep = finalDf['Class'] == target\n",
    "    ax.scatter(finalDf.loc[indicesToKeep, 'pc1']\n",
    "               , finalDf.loc[indicesToKeep, 'pc2']\n",
    "               , c = color\n",
    "               , s = 50)\n",
    "ax.legend(targets)\n",
    "ax.grid()\n",
    "fig.savefig('E:/Machine Learning/HW3/PCA_wine.png')"
   ]
  },
  {
   "cell_type": "code",
   "execution_count": 87,
   "metadata": {},
   "outputs": [
    {
     "data": {
      "text/plain": [
       "KMeans(algorithm='auto', copy_x=True, init='k-means++', max_iter=300,\n",
       "    n_clusters=3, n_init=100, n_jobs=None, precompute_distances='auto',\n",
       "    random_state=3, tol=0.0001, verbose=0)"
      ]
     },
     "execution_count": 87,
     "metadata": {},
     "output_type": "execute_result"
    }
   ],
   "source": [
    "kmeans_pc=KMeans(n_clusters=3,random_state=3,n_init=100)\n",
    "kmeans_pc.fit(principalDf)"
   ]
  },
  {
   "cell_type": "code",
   "execution_count": null,
   "metadata": {},
   "outputs": [],
   "source": [
    "    count=0\n",
    "    for i in range(len(y)):\n",
    "        if y[i]==1 and yp_pc[i]==2:\n",
    "            count=count+1/len(y)\n",
    "        elif y[i]==2 and yp_pc[i]==0:\n",
    "            count=count+1/len(y)\n",
    "        elif y[i]==3 and yp_pc[i]==1:\n",
    "            count=count+1/len(y)\n",
    "    count"
   ]
  },
  {
   "cell_type": "code",
   "execution_count": 123,
   "metadata": {},
   "outputs": [
    {
     "name": "stdout",
     "output_type": "stream",
     "text": [
      "finalacc: 0.9662921348314627\n",
      "index: 0\n"
     ]
    }
   ],
   "source": [
    "yp_pc=kmeans_pc.labels_\n",
    "order=[[1,2,0],[1,0,2],[2,1,0],[2,0,1],[0,1,2],[0,2,1]]\n",
    "accurate=0\n",
    "finalacc=0\n",
    "for k in range(1):\n",
    "    for i in range(len(y)):\n",
    "        if y[i]==1 and yp_pc[i]==2:\n",
    "            accurate=accurate+1/len(y)\n",
    "        elif y[i]==2 and yp_pc[i]==0:\n",
    "            accurate=accurate+1/len(y)\n",
    "        elif y[i]==3 and yp_pc[i]==1:\n",
    "            accurate+=1/len(y)\n",
    "    if accurate>finalacc:\n",
    "        finalacc=accurate\n",
    "        index=k\n",
    "    accurate=0\n",
    "print('finalacc:',finalacc)\n",
    "print('index:',index)"
   ]
  },
  {
   "cell_type": "code",
   "execution_count": 91,
   "metadata": {},
   "outputs": [],
   "source": [
    "YP=pd.DataFrame(data=yp_pc, columns=\n",
    "                        ['pre_label'])\n",
    "predDf=pd.concat([principalDf,YP],axis=1)"
   ]
  },
  {
   "cell_type": "code",
   "execution_count": 94,
   "metadata": {},
   "outputs": [
    {
     "data": {
      "image/png": "[encoded data removed]",
      "text/plain": [
       "<Figure size 576x576 with 1 Axes>"
      ]
     },
     "metadata": {},
     "output_type": "display_data"
    }
   ],
   "source": [
    "fig = plt.figure(figsize = (8,8))\n",
    "ax = fig.add_subplot(1,1,1) \n",
    "ax.set_xlabel('Principal Component 1', fontsize = 15)\n",
    "ax.set_ylabel('Principal Component 2', fontsize = 15)\n",
    "ax.set_title('Wine PCA with K-Means Clustering Labels', fontsize = 20)\n",
    "targets = [2,0,1]\n",
    "colors = ['r','g','b']\n",
    "for target, color in zip(targets,colors):\n",
    "    indicesToKeep = predDf['pre_label'] == target\n",
    "    ax.scatter(predDf.loc[indicesToKeep, 'pc1']\n",
    "               , predDf.loc[indicesToKeep, 'pc2']\n",
    "               , c = color\n",
    "               , s = 100)\n",
    "ax.grid()\n",
    "fig.savefig('E:/Machine Learning/HW3/2PCA_kclustering_wine.png')"
   ]
  },
  {
   "cell_type": "code",
   "execution_count": 99,
   "metadata": {},
   "outputs": [
    {
     "data": {
      "text/plain": [
       "GaussianMixture(covariance_type='full', init_params='kmeans', max_iter=100,\n",
       "        means_init=None, n_components=3, n_init=10, precisions_init=None,\n",
       "        random_state=2, reg_covar=1e-06, tol=0.001, verbose=0,\n",
       "        verbose_interval=10, warm_start=False, weights_init=None)"
      ]
     },
     "execution_count": 99,
     "metadata": {},
     "output_type": "execute_result"
    }
   ],
   "source": [
    "EM_pc=GaussianMixture(n_components=3,n_init=10,random_state=2)\n",
    "EM_pc.fit(principalDf)"
   ]
  },
  {
   "cell_type": "code",
   "execution_count": 101,
   "metadata": {},
   "outputs": [
    {
     "name": "stdout",
     "output_type": "stream",
     "text": [
      "finalacc: 0.6348314606741585\n",
      "index: [1, 0, 2]\n"
     ]
    }
   ],
   "source": [
    "ypc_EMp=EM_pc.predict(principalDf)\n",
    "order=[[1,2,0],[1,0,2],[2,1,0],[2,0,1],[0,1,2],[0,2,1]]\n",
    "accurate=0\n",
    "finalacc=0\n",
    "for k in order:\n",
    "    for i in range(len(y)):\n",
    "        if y[i]==1 and ypc_EMp[i]==k[0]:\n",
    "            accuate=accurate+1/len(y)\n",
    "        elif y[i]==2 and ypc_EMp[i]==k[1]:\n",
    "            accurate=accurate+1/len(y)\n",
    "        elif y[i]==3 and ypc_EMp[i]==k[2]:\n",
    "            accurate+=1/len(y)\n",
    "    if accurate>finalacc:\n",
    "        finalacc=accurate\n",
    "        index=k\n",
    "    accurate=0\n",
    "print('finalacc:',finalacc)\n",
    "print('index:',index)"
   ]
  },
  {
   "cell_type": "code",
   "execution_count": null,
   "metadata": {},
   "outputs": [],
   "source": [
    "YP=pd.DataFrame(data=ypc_EMp, columns=\n",
    "                        ['pre_label'])\n",
    "predDf=pd.concat([principalDf,YP],axis=1)"
   ]
  },
  {
   "cell_type": "code",
   "execution_count": 106,
   "metadata": {
    "scrolled": true
   },
   "outputs": [
    {
     "data": {
      "image/png": "[encoded data removed]",
      "text/plain": [
       "<Figure size 576x576 with 1 Axes>"
      ]
     },
     "metadata": {},
     "output_type": "display_data"
    }
   ],
   "source": [
    "fig = plt.figure(figsize = (8,8))\n",
    "ax = fig.add_subplot(1,1,1) \n",
    "ax.set_xlabel('Principal Component 1', fontsize = 15)\n",
    "ax.set_ylabel('Principal Component 2', fontsize = 15)\n",
    "ax.set_title('Wine PCA with EM Clustering Labels', fontsize = 20)\n",
    "targets = [2,0,1]\n",
    "colors = ['r','g','b']\n",
    "for target, color in zip(targets,colors):\n",
    "    indicesToKeep = predDf['pre_label'] == target\n",
    "    ax.scatter(predDf.loc[indicesToKeep, 'pc1']\n",
    "               , predDf.loc[indicesToKeep, 'pc2']\n",
    "               , c = color\n",
    "               , s = 100)\n",
    "ax.grid()\n",
    "fig.savefig('E:/Machine Learning/HW3/2PCA_EMclustering_wine.png')"
   ]
  },
  {
   "cell_type": "code",
   "execution_count": 76,
   "metadata": {},
   "outputs": [],
   "source": [
    "Z=[]"
   ]
  },
  {
   "cell_type": "code",
   "execution_count": 79,
   "metadata": {},
   "outputs": [],
   "source": [
    "for i in range(1,14):\n",
    "    Z.append([i,X2[y_EMp==2].mean(axis=0)[i-1],2])"
   ]
  },
  {
   "cell_type": "code",
   "execution_count": 80,
   "metadata": {},
   "outputs": [],
   "source": [
    "Zframe=pd.DataFrame(data=Z, columns=\n",
    "                        ['features','mean','clustering'])"
   ]
  },
  {
   "cell_type": "code",
   "execution_count": 82,
   "metadata": {
    "scrolled": true
   },
   "outputs": [
    {
     "data": {
      "image/png": "[encoded data removed]",
      "text/plain": [
       "<Figure size 576x576 with 1 Axes>"
      ]
     },
     "metadata": {},
     "output_type": "display_data"
    }
   ],
   "source": [
    "fig = plt.figure(figsize = (8,8))\n",
    "ax = fig.add_subplot(1,1,1) \n",
    "ax.set_xlabel('Features', fontsize = 15)\n",
    "ax.set_ylabel('Mean', fontsize = 15)\n",
    "ax.set_title('Mean Values of Features of EM Clustering', fontsize = 20)\n",
    "targets = [0,1,2]\n",
    "colors = ['r', 'g','b']\n",
    "for target, color in zip(targets,colors):\n",
    "    indicesToKeep = Zframe['clustering'] == target\n",
    "    ax.scatter(Zframe.loc[indicesToKeep, 'features']\n",
    "               , Zframe.loc[indicesToKeep, 'mean']\n",
    "               , c = color\n",
    "               , s = 50)\n",
    "ax.legend(targets)\n",
    "ax.grid()\n",
    "fig.savefig('E:/Machine Learning/HW3/mean values EM.png')"
   ]
  },
  {
   "cell_type": "code",
   "execution_count": 108,
   "metadata": {},
   "outputs": [
    {
     "data": {
      "text/plain": [
       "Counter({1: 59, 2: 71, 3: 48})"
      ]
     },
     "execution_count": 108,
     "metadata": {},
     "output_type": "execute_result"
    }
   ],
   "source": [
    "Counter(y)"
   ]
  },
  {
   "cell_type": "code",
   "execution_count": 111,
   "metadata": {},
   "outputs": [
    {
     "data": {
      "text/plain": [
       "Counter({2: 64, 0: 65, 1: 49})"
      ]
     },
     "execution_count": 111,
     "metadata": {},
     "output_type": "execute_result"
    }
   ],
   "source": [
    "Counter(yp_pc)"
   ]
  },
  {
   "cell_type": "code",
   "execution_count": 121,
   "metadata": {},
   "outputs": [
    {
     "data": {
      "text/plain": [
       "0.9662921348314627"
      ]
     },
     "execution_count": 121,
     "metadata": {},
     "output_type": "execute_result"
    }
   ],
   "source": [
    "    count=0\n",
    "    for i in range(len(y)):\n",
    "        if y[i]==1 and yp_pc[i]==2:\n",
    "            count=count+1/len(y)\n",
    "        elif y[i]==2 and yp_pc[i]==0:\n",
    "            count=count+1/len(y)\n",
    "        elif y[i]==3 and yp_pc[i]==1:\n",
    "            count=count+1/len(y)\n",
    "    count\n"
   ]
  },
  {
   "cell_type": "code",
   "execution_count": 116,
   "metadata": {},
   "outputs": [
    {
     "data": {
      "text/plain": [
       "0.9662921348314607"
      ]
     },
     "execution_count": 116,
     "metadata": {},
     "output_type": "execute_result"
    }
   ],
   "source": [
    "(59+65+48)/len(y)"
   ]
  },
  {
   "cell_type": "code",
   "execution_count": 117,
   "metadata": {},
   "outputs": [
    {
     "data": {
      "text/plain": [
       "Counter({2: 62, 1: 65, 0: 51})"
      ]
     },
     "execution_count": 117,
     "metadata": {},
     "output_type": "execute_result"
    }
   ],
   "source": [
    "Counter(yp2)"
   ]
  },
  {
   "cell_type": "code",
   "execution_count": null,
   "metadata": {},
   "outputs": [],
   "source": []
  }
 ],
 "metadata": {
  "kernelspec": {
   "display_name": "Python 3",
   "language": "python",
   "name": "python3"
  },
  "language_info": {
   "codemirror_mode": {
    "name": "ipython",
    "version": 3
   },
   "file_extension": ".py",
   "mimetype": "text/x-python",
   "name": "python",
   "nbconvert_exporter": "python",
   "pygments_lexer": "ipython3",
   "version": "3.6.5"
  }
 },
 "nbformat": 4,
 "nbformat_minor": 2
}
