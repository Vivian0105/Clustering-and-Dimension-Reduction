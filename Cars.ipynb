{
 "cells": [
  {
   "cell_type": "code",
   "execution_count": 2,
   "metadata": {},
   "outputs": [],
   "source": [
    "import pandas as pd\n",
    "from sklearn.cluster import KMeans  \n",
    "from collections import Counter\n",
    "import numpy as np\n",
    "from sklearn.mixture import GaussianMixture\n",
    "from sklearn.decomposition import PCA,FastICA\n",
    "import matplotlib.pyplot as plt\n"
   ]
  },
  {
   "cell_type": "code",
   "execution_count": 3,
   "metadata": {},
   "outputs": [],
   "source": [
    "data=pd.read_excel('E:\\Machine Learning\\HW3\\Cars.xlsx')"
   ]
  },
  {
   "cell_type": "code",
   "execution_count": 4,
   "metadata": {},
   "outputs": [
    {
     "data": {
      "text/html": [
       "<div>\n",
       "<style scoped>\n",
       "    .dataframe tbody tr th:only-of-type {\n",
       "        vertical-align: middle;\n",
       "    }\n",
       "\n",
       "    .dataframe tbody tr th {\n",
       "        vertical-align: top;\n",
       "    }\n",
       "\n",
       "    .dataframe thead th {\n",
       "        text-align: right;\n",
       "    }\n",
       "</style>\n",
       "<table border=\"1\" class=\"dataframe\">\n",
       "  <thead>\n",
       "    <tr style=\"text-align: right;\">\n",
       "      <th></th>\n",
       "      <th>Buy</th>\n",
       "      <th>Maintain</th>\n",
       "      <th>Doors</th>\n",
       "      <th>Persons</th>\n",
       "      <th>lug_boot</th>\n",
       "      <th>Safety</th>\n",
       "      <th>Values</th>\n",
       "      <th>Acc or Not</th>\n",
       "    </tr>\n",
       "  </thead>\n",
       "  <tbody>\n",
       "    <tr>\n",
       "      <th>0</th>\n",
       "      <td>4</td>\n",
       "      <td>4</td>\n",
       "      <td>2</td>\n",
       "      <td>2</td>\n",
       "      <td>1</td>\n",
       "      <td>1</td>\n",
       "      <td>0</td>\n",
       "      <td>0</td>\n",
       "    </tr>\n",
       "    <tr>\n",
       "      <th>1</th>\n",
       "      <td>4</td>\n",
       "      <td>4</td>\n",
       "      <td>2</td>\n",
       "      <td>2</td>\n",
       "      <td>1</td>\n",
       "      <td>2</td>\n",
       "      <td>0</td>\n",
       "      <td>0</td>\n",
       "    </tr>\n",
       "    <tr>\n",
       "      <th>2</th>\n",
       "      <td>4</td>\n",
       "      <td>4</td>\n",
       "      <td>2</td>\n",
       "      <td>2</td>\n",
       "      <td>1</td>\n",
       "      <td>3</td>\n",
       "      <td>0</td>\n",
       "      <td>0</td>\n",
       "    </tr>\n",
       "    <tr>\n",
       "      <th>3</th>\n",
       "      <td>4</td>\n",
       "      <td>4</td>\n",
       "      <td>2</td>\n",
       "      <td>2</td>\n",
       "      <td>2</td>\n",
       "      <td>1</td>\n",
       "      <td>0</td>\n",
       "      <td>0</td>\n",
       "    </tr>\n",
       "    <tr>\n",
       "      <th>4</th>\n",
       "      <td>4</td>\n",
       "      <td>4</td>\n",
       "      <td>2</td>\n",
       "      <td>2</td>\n",
       "      <td>2</td>\n",
       "      <td>2</td>\n",
       "      <td>0</td>\n",
       "      <td>0</td>\n",
       "    </tr>\n",
       "  </tbody>\n",
       "</table>\n",
       "</div>"
      ],
      "text/plain": [
       "   Buy  Maintain  Doors  Persons  lug_boot  Safety  Values  Acc or Not\n",
       "0    4         4      2        2         1       1       0           0\n",
       "1    4         4      2        2         1       2       0           0\n",
       "2    4         4      2        2         1       3       0           0\n",
       "3    4         4      2        2         2       1       0           0\n",
       "4    4         4      2        2         2       2       0           0"
      ]
     },
     "execution_count": 4,
     "metadata": {},
     "output_type": "execute_result"
    }
   ],
   "source": [
    "data.head()"
   ]
  },
  {
   "cell_type": "code",
   "execution_count": 5,
   "metadata": {},
   "outputs": [],
   "source": [
    "y1=data['Values']"
   ]
  },
  {
   "cell_type": "code",
   "execution_count": 6,
   "metadata": {},
   "outputs": [],
   "source": [
    "y2=data['Acc or Not']"
   ]
  },
  {
   "cell_type": "code",
   "execution_count": 7,
   "metadata": {},
   "outputs": [],
   "source": [
    "X = data.drop(['Values','Acc or Not'],axis=1)"
   ]
  },
  {
   "cell_type": "code",
   "execution_count": 23,
   "metadata": {},
   "outputs": [],
   "source": [
    "kmeans=KMeans(n_clusters=4,n_init=200,random_state=2,tol=0.00001)\n",
    "kmeans.fit(X)\n",
    "yp_k4=kmeans.labels_"
   ]
  },
  {
   "cell_type": "code",
   "execution_count": 24,
   "metadata": {},
   "outputs": [
    {
     "name": "stdout",
     "output_type": "stream",
     "text": [
      "0.30960648148148107\n",
      "index: [3, 1, 0, 2]\n"
     ]
    }
   ],
   "source": [
    "order=[[1,2,3,0],[1,2,0,3],[1,3,2,0],[1,3,0,2],[1,0,2,3],[1,0,3,2],[2,1,3,0],[2,1,0,3],[2,3,1,0],[2,3,0,1],[2,0,1,3],[2,0,3,1],\n",
    "       [3,1,2,0],[3,1,0,2],[3,2,1,0],[3,2,0,1],[3,0,1,2],[3,0,2,1],[0,1,2,3],[0,1,3,2],[0,2,1,3],[0,2,3,1],[0,3,1,2],[0,3,2,1]]\n",
    "accurate=0\n",
    "finalacc=0\n",
    "for k in order:\n",
    "    for i in range(len(y1)):\n",
    "        if yp_k4[i]==0 and y1[i]==k[0]:\n",
    "            accurate=accurate+1/len(y1)\n",
    "        elif yp_k4[i]==1 and y1[i]==k[1]:\n",
    "            accurate=accurate+1/len(y1)\n",
    "        elif yp_k4[i]==2 and y1[i]==k[2]:\n",
    "            accurate+=1/len(y1)\n",
    "        elif yp_k4[i]==3 and y1[i]==k[3]:\n",
    "            accurate+=1/len(y1)    \n",
    "    if accurate>finalacc:\n",
    "        finalacc=accurate\n",
    "        index1=k\n",
    "    accurate=0\n",
    "print(finalacc)\n",
    "print('index:',index1)"
   ]
  },
  {
   "cell_type": "code",
   "execution_count": 25,
   "metadata": {},
   "outputs": [
    {
     "data": {
      "text/plain": [
       "8123.999999999999"
      ]
     },
     "execution_count": 25,
     "metadata": {},
     "output_type": "execute_result"
    }
   ],
   "source": [
    "kmeans.inertia_"
   ]
  },
  {
   "cell_type": "code",
   "execution_count": 26,
   "metadata": {},
   "outputs": [
    {
     "data": {
      "text/plain": [
       "8"
      ]
     },
     "execution_count": 26,
     "metadata": {},
     "output_type": "execute_result"
    }
   ],
   "source": [
    "kmeans.n_iter_"
   ]
  },
  {
   "cell_type": "code",
   "execution_count": 273,
   "metadata": {},
   "outputs": [
    {
     "data": {
      "text/plain": [
       "KMeans(algorithm='auto', copy_x=True, init='k-means++', max_iter=300,\n",
       "    n_clusters=2, n_init=20, n_jobs=None, precompute_distances='auto',\n",
       "    random_state=None, tol=0.0001, verbose=0)"
      ]
     },
     "execution_count": 273,
     "metadata": {},
     "output_type": "execute_result"
    }
   ],
   "source": [
    "kmeans2=KMeans(n_clusters=2,n_init=20)\n",
    "kmeans2.fit(X)"
   ]
  },
  {
   "cell_type": "code",
   "execution_count": 45,
   "metadata": {},
   "outputs": [],
   "source": [
    "yp_k2=kmeans.labels_"
   ]
  },
  {
   "cell_type": "code",
   "execution_count": 48,
   "metadata": {},
   "outputs": [],
   "source": [
    "accurate=0\n",
    "for i in range(len(y2)):\n",
    "    if y2[i]!=yp_k2[i]:\n",
    "        accurate=accurate+1/len(y2)"
   ]
  },
  {
   "cell_type": "code",
   "execution_count": 49,
   "metadata": {},
   "outputs": [
    {
     "data": {
      "text/plain": [
       "0.7586805555555679"
      ]
     },
     "execution_count": 49,
     "metadata": {},
     "output_type": "execute_result"
    }
   ],
   "source": [
    "accurate"
   ]
  },
  {
   "cell_type": "code",
   "execution_count": 10,
   "metadata": {},
   "outputs": [
    {
     "data": {
      "text/plain": [
       "GaussianMixture(covariance_type='full', init_params='kmeans', max_iter=100,\n",
       "        means_init=None, n_components=4, n_init=100, precisions_init=None,\n",
       "        random_state=3, reg_covar=1e-06, tol=0.0001, verbose=0,\n",
       "        verbose_interval=10, warm_start=False, weights_init=None)"
      ]
     },
     "execution_count": 10,
     "metadata": {},
     "output_type": "execute_result"
    }
   ],
   "source": [
    "EM1=GaussianMixture(n_components=4,n_init=100,random_state=3,tol=0.0001)\n",
    "EM1.fit(X)"
   ]
  },
  {
   "cell_type": "code",
   "execution_count": 11,
   "metadata": {},
   "outputs": [],
   "source": [
    "yp_EM4=EM1.predict(X)"
   ]
  },
  {
   "cell_type": "code",
   "execution_count": 12,
   "metadata": {},
   "outputs": [
    {
     "data": {
      "text/plain": [
       "0.3848379629629647"
      ]
     },
     "execution_count": 12,
     "metadata": {},
     "output_type": "execute_result"
    }
   ],
   "source": [
    "order=[[1,2,3,0],[1,2,0,3],[1,3,2,0],[1,3,0,2],[1,0,2,3],[1,0,3,2],[2,1,3,0],[2,1,0,3],[2,3,1,0],[2,3,0,1],[2,0,1,3],[2,0,3,1],\n",
    "       [3,1,2,0],[3,1,0,2],[3,2,1,0],[3,2,0,1],[3,0,1,2],[3,0,2,1],[0,1,2,3],[0,1,3,2],[0,2,1,3],[0,2,3,1],[0,3,1,2],[0,3,2,1]]\n",
    "accurate=0\n",
    "finalacc=0\n",
    "for k in order:\n",
    "    for i in range(len(y1)):\n",
    "        if yp_EM4[i]==0 and y1[i]==k[0]:\n",
    "            accurate=accurate+1/len(y1)\n",
    "        elif yp_EM4[i]==1 and y1[i]==k[1]:\n",
    "            accurate=accurate+1/len(y1)\n",
    "        elif yp_EM4[i]==2 and y1[i]==k[2]:\n",
    "            accurate+=1/len(y1)\n",
    "        elif yp_EM4[i]==3 and y1[i]==k[3]:\n",
    "            accurate+=1/len(y1)    \n",
    "    if accurate>finalacc:\n",
    "        finalacc=accurate\n",
    "        index2=k\n",
    "    accurate=0\n",
    "finalacc"
   ]
  },
  {
   "cell_type": "code",
   "execution_count": 13,
   "metadata": {},
   "outputs": [
    {
     "data": {
      "text/plain": [
       "[3, 2, 0, 1]"
      ]
     },
     "execution_count": 13,
     "metadata": {},
     "output_type": "execute_result"
    }
   ],
   "source": [
    "index2"
   ]
  },
  {
   "cell_type": "code",
   "execution_count": 219,
   "metadata": {},
   "outputs": [
    {
     "data": {
      "text/plain": [
       "-1.6159815524854182"
      ]
     },
     "execution_count": 219,
     "metadata": {},
     "output_type": "execute_result"
    }
   ],
   "source": [
    "EM1.lower_bound_"
   ]
  },
  {
   "cell_type": "code",
   "execution_count": 220,
   "metadata": {},
   "outputs": [
    {
     "data": {
      "text/plain": [
       "11"
      ]
     },
     "execution_count": 220,
     "metadata": {},
     "output_type": "execute_result"
    }
   ],
   "source": [
    "EM1.n_iter_"
   ]
  },
  {
   "cell_type": "code",
   "execution_count": 53,
   "metadata": {},
   "outputs": [],
   "source": [
    "EM2=GaussianMixture(n_components=2)\n",
    "EM2.fit(X)\n",
    "yp_EM2=EM2.predict(X)"
   ]
  },
  {
   "cell_type": "code",
   "execution_count": 56,
   "metadata": {},
   "outputs": [],
   "source": [
    "accurate=0\n",
    "for i in range(len(y2)):\n",
    "    if y2[i]!=yp_EM2[i]:\n",
    "        accurate=accurate+1/len(y2)"
   ]
  },
  {
   "cell_type": "code",
   "execution_count": 57,
   "metadata": {},
   "outputs": [
    {
     "data": {
      "text/plain": [
       "0.6608796296296392"
      ]
     },
     "execution_count": 57,
     "metadata": {},
     "output_type": "execute_result"
    }
   ],
   "source": [
    "accurate"
   ]
  },
  {
   "cell_type": "code",
   "execution_count": 61,
   "metadata": {},
   "outputs": [
    {
     "data": {
      "text/plain": [
       "Buy         2.5\n",
       "Maintain    2.5\n",
       "Doors       3.5\n",
       "Persons     4.0\n",
       "lug_boot    2.0\n",
       "Safety      2.0\n",
       "dtype: float64"
      ]
     },
     "execution_count": 61,
     "metadata": {},
     "output_type": "execute_result"
    }
   ],
   "source": [
    "X.mean(axis=0)"
   ]
  },
  {
   "cell_type": "code",
   "execution_count": 163,
   "metadata": {},
   "outputs": [
    {
     "data": {
      "text/plain": [
       "Buy         2.5\n",
       "Maintain    2.5\n",
       "Doors       3.5\n",
       "Persons     2.0\n",
       "lug_boot    2.0\n",
       "Safety      2.0\n",
       "dtype: float64"
      ]
     },
     "execution_count": 163,
     "metadata": {},
     "output_type": "execute_result"
    }
   ],
   "source": [
    "X[yp_EM4==2].mean(axis=0)"
   ]
  },
  {
   "cell_type": "code",
   "execution_count": 164,
   "metadata": {
    "scrolled": true
   },
   "outputs": [
    {
     "data": {
      "text/plain": [
       "Buy         2.5\n",
       "Maintain    2.5\n",
       "Doors       3.5\n",
       "Persons     6.0\n",
       "lug_boot    2.0\n",
       "Safety      2.0\n",
       "dtype: float64"
      ]
     },
     "execution_count": 164,
     "metadata": {},
     "output_type": "execute_result"
    }
   ],
   "source": [
    "X[yp_EM4==1].mean(axis=0)"
   ]
  },
  {
   "cell_type": "code",
   "execution_count": 165,
   "metadata": {},
   "outputs": [
    {
     "data": {
      "text/plain": [
       "Buy         1.0\n",
       "Maintain    2.5\n",
       "Doors       3.5\n",
       "Persons     4.0\n",
       "lug_boot    2.0\n",
       "Safety      2.0\n",
       "dtype: float64"
      ]
     },
     "execution_count": 165,
     "metadata": {},
     "output_type": "execute_result"
    }
   ],
   "source": [
    "X[yp_EM4==0].mean(axis=0)"
   ]
  },
  {
   "cell_type": "code",
   "execution_count": 166,
   "metadata": {},
   "outputs": [
    {
     "data": {
      "text/plain": [
       "Buy         3.0\n",
       "Maintain    2.5\n",
       "Doors       3.5\n",
       "Persons     4.0\n",
       "lug_boot    2.0\n",
       "Safety      2.0\n",
       "dtype: float64"
      ]
     },
     "execution_count": 166,
     "metadata": {},
     "output_type": "execute_result"
    }
   ],
   "source": [
    "X[yp_EM4==3].mean(axis=0)"
   ]
  },
  {
   "cell_type": "code",
   "execution_count": 14,
   "metadata": {},
   "outputs": [
    {
     "data": {
      "text/html": [
       "<div>\n",
       "<style scoped>\n",
       "    .dataframe tbody tr th:only-of-type {\n",
       "        vertical-align: middle;\n",
       "    }\n",
       "\n",
       "    .dataframe tbody tr th {\n",
       "        vertical-align: top;\n",
       "    }\n",
       "\n",
       "    .dataframe thead th {\n",
       "        text-align: right;\n",
       "    }\n",
       "</style>\n",
       "<table border=\"1\" class=\"dataframe\">\n",
       "  <thead>\n",
       "    <tr style=\"text-align: right;\">\n",
       "      <th></th>\n",
       "      <th>pc1</th>\n",
       "      <th>pc2</th>\n",
       "      <th>Values</th>\n",
       "    </tr>\n",
       "  </thead>\n",
       "  <tbody>\n",
       "    <tr>\n",
       "      <th>0</th>\n",
       "      <td>2.0</td>\n",
       "      <td>-1.986932</td>\n",
       "      <td>0</td>\n",
       "    </tr>\n",
       "    <tr>\n",
       "      <th>1</th>\n",
       "      <td>2.0</td>\n",
       "      <td>-1.986932</td>\n",
       "      <td>0</td>\n",
       "    </tr>\n",
       "    <tr>\n",
       "      <th>2</th>\n",
       "      <td>2.0</td>\n",
       "      <td>-1.986932</td>\n",
       "      <td>0</td>\n",
       "    </tr>\n",
       "    <tr>\n",
       "      <th>3</th>\n",
       "      <td>2.0</td>\n",
       "      <td>-1.986932</td>\n",
       "      <td>0</td>\n",
       "    </tr>\n",
       "    <tr>\n",
       "      <th>4</th>\n",
       "      <td>2.0</td>\n",
       "      <td>-1.986932</td>\n",
       "      <td>0</td>\n",
       "    </tr>\n",
       "  </tbody>\n",
       "</table>\n",
       "</div>"
      ],
      "text/plain": [
       "   pc1       pc2  Values\n",
       "0  2.0 -1.986932       0\n",
       "1  2.0 -1.986932       0\n",
       "2  2.0 -1.986932       0\n",
       "3  2.0 -1.986932       0\n",
       "4  2.0 -1.986932       0"
      ]
     },
     "execution_count": 14,
     "metadata": {},
     "output_type": "execute_result"
    }
   ],
   "source": [
    "pca=PCA(n_components=2,random_state=2)\n",
    "principalComponents=pca.fit_transform(X)\n",
    "principalDf=pd.DataFrame(data=principalComponents, columns=\n",
    "                        ['pc1','pc2'])\n",
    "finalDf = pd.concat([principalDf, y1], axis = 1)\n",
    "finalDf.head()"
   ]
  },
  {
   "cell_type": "code",
   "execution_count": 22,
   "metadata": {},
   "outputs": [
    {
     "data": {
      "image/png": "[encoded data removed]",
      "text/plain": [
       "<Figure size 576x576 with 1 Axes>"
      ]
     },
     "metadata": {},
     "output_type": "display_data"
    }
   ],
   "source": [
    "fig = plt.figure(figsize = (8,8))\n",
    "ax = fig.add_subplot(1,1,1) \n",
    "ax.set_xlabel('Principal Component 1', fontsize = 15)\n",
    "ax.set_ylabel('Principal Component 2', fontsize = 15)\n",
    "ax.set_title('Cars 2 component PCA', fontsize = 20)\n",
    "targets = [0,1,2,3]\n",
    "colors = ['r', 'g', 'b','c']\n",
    "marker=['^','o','s','*']\n",
    "for target, color,marker in zip(targets,colors,marker):\n",
    "    indicesToKeep = finalDf['Values'] == target\n",
    "    ax.scatter(finalDf.loc[indicesToKeep, 'pc1']\n",
    "               , finalDf.loc[indicesToKeep, 'pc2']\n",
    "               , c = color\n",
    "               , s = 100\n",
    "              , marker=marker)\n",
    "ax.legend(targets)\n",
    "ax.grid()\n",
    "fig.savefig('E:/Machine Learning/HW3/2PCA_CARS.png')\n"
   ]
  },
  {
   "cell_type": "code",
   "execution_count": 15,
   "metadata": {},
   "outputs": [
    {
     "data": {
      "text/plain": [
       "KMeans(algorithm='auto', copy_x=True, init='k-means++', max_iter=20,\n",
       "    n_clusters=4, n_init=200, n_jobs=None, precompute_distances='auto',\n",
       "    random_state=2, tol=0.0001, verbose=0)"
      ]
     },
     "execution_count": 15,
     "metadata": {},
     "output_type": "execute_result"
    }
   ],
   "source": [
    "kmeans4pc=KMeans(n_clusters=4,n_init=200,max_iter=20,random_state=2)\n",
    "kmeans4pc.fit(principalComponents)"
   ]
  },
  {
   "cell_type": "code",
   "execution_count": 16,
   "metadata": {},
   "outputs": [],
   "source": [
    "yp_k4pc=kmeans4pc.labels_"
   ]
  },
  {
   "cell_type": "code",
   "execution_count": 17,
   "metadata": {},
   "outputs": [
    {
     "name": "stdout",
     "output_type": "stream",
     "text": [
      "0.43807870370370694\n",
      "[3, 1, 0, 2]\n"
     ]
    }
   ],
   "source": [
    "order=[[1,2,3,0],[1,2,0,3],[1,3,2,0],[1,3,0,2],[1,0,2,3],[1,0,3,2],[2,1,3,0],[2,1,0,3],[2,3,1,0],[2,3,0,1],[2,0,1,3],[2,0,3,1],\n",
    "       [3,1,2,0],[3,1,0,2],[3,2,1,0],[3,2,0,1],[3,0,1,2],[3,0,2,1],[0,1,2,3],[0,1,3,2],[0,2,1,3],[0,2,3,1],[0,3,1,2],[0,3,2,1]]\n",
    "accurate=0\n",
    "finalacc=0\n",
    "for k in order:\n",
    "    for i in range(len(y1)):\n",
    "        if yp_k4pc[i]==0 and y1[i]==k[0]:\n",
    "            accurate=accurate+1/len(y1)\n",
    "        elif yp_k4pc[i]==1 and y1[i]==k[1]:\n",
    "            accurate=accurate+1/len(y1)\n",
    "        elif yp_k4pc[i]==2 and y1[i]==k[2]:\n",
    "            accurate+=1/len(y1)\n",
    "        elif yp_k4pc[i]==3 and y1[i]==k[3]:\n",
    "            accurate+=1/len(y1)    \n",
    "    if accurate>finalacc:\n",
    "        finalacc=accurate\n",
    "        index2=k\n",
    "    accurate=0\n",
    "print(finalacc)\n",
    "print(index2)"
   ]
  },
  {
   "cell_type": "code",
   "execution_count": 306,
   "metadata": {},
   "outputs": [
    {
     "data": {
      "text/html": [
       "<div>\n",
       "<style scoped>\n",
       "    .dataframe tbody tr th:only-of-type {\n",
       "        vertical-align: middle;\n",
       "    }\n",
       "\n",
       "    .dataframe tbody tr th {\n",
       "        vertical-align: top;\n",
       "    }\n",
       "\n",
       "    .dataframe thead th {\n",
       "        text-align: right;\n",
       "    }\n",
       "</style>\n",
       "<table border=\"1\" class=\"dataframe\">\n",
       "  <thead>\n",
       "    <tr style=\"text-align: right;\">\n",
       "      <th></th>\n",
       "      <th>pc1</th>\n",
       "      <th>pc2</th>\n",
       "      <th>pre_label</th>\n",
       "    </tr>\n",
       "  </thead>\n",
       "  <tbody>\n",
       "    <tr>\n",
       "      <th>0</th>\n",
       "      <td>2.0</td>\n",
       "      <td>-1.986932</td>\n",
       "      <td>2</td>\n",
       "    </tr>\n",
       "    <tr>\n",
       "      <th>1</th>\n",
       "      <td>2.0</td>\n",
       "      <td>-1.986932</td>\n",
       "      <td>2</td>\n",
       "    </tr>\n",
       "    <tr>\n",
       "      <th>2</th>\n",
       "      <td>2.0</td>\n",
       "      <td>-1.986932</td>\n",
       "      <td>2</td>\n",
       "    </tr>\n",
       "    <tr>\n",
       "      <th>3</th>\n",
       "      <td>2.0</td>\n",
       "      <td>-1.986932</td>\n",
       "      <td>2</td>\n",
       "    </tr>\n",
       "    <tr>\n",
       "      <th>4</th>\n",
       "      <td>2.0</td>\n",
       "      <td>-1.986932</td>\n",
       "      <td>2</td>\n",
       "    </tr>\n",
       "  </tbody>\n",
       "</table>\n",
       "</div>"
      ],
      "text/plain": [
       "   pc1       pc2  pre_label\n",
       "0  2.0 -1.986932          2\n",
       "1  2.0 -1.986932          2\n",
       "2  2.0 -1.986932          2\n",
       "3  2.0 -1.986932          2\n",
       "4  2.0 -1.986932          2"
      ]
     },
     "execution_count": 306,
     "metadata": {},
     "output_type": "execute_result"
    }
   ],
   "source": [
    "YP=pd.DataFrame(data=yp_k4pc, columns=\n",
    "                        ['pre_label'])\n",
    "predDf=pd.concat([principalDf,YP],axis=1)\n",
    "predDf.head()"
   ]
  },
  {
   "cell_type": "code",
   "execution_count": 307,
   "metadata": {},
   "outputs": [
    {
     "data": {
      "image/png": "[encoded data removed]",
      "text/plain": [
       "<Figure size 576x576 with 1 Axes>"
      ]
     },
     "metadata": {},
     "output_type": "display_data"
    }
   ],
   "source": [
    "fig = plt.figure(figsize = (8,8))\n",
    "ax = fig.add_subplot(1,1,1) \n",
    "ax.set_xlabel('Principal Component 1', fontsize = 15)\n",
    "ax.set_ylabel('Principal Component 2', fontsize = 15)\n",
    "ax.set_title('PCA with K-Means Clustering Labels', fontsize = 20)\n",
    "targets = [3,1,0,2]\n",
    "colors = ['r','g','b','c']\n",
    "marker=['^','o','s','*']\n",
    "for target, color,marker in zip(targets,colors,marker):\n",
    "    indicesToKeep = predDf['pre_label'] == target\n",
    "    ax.scatter(predDf.loc[indicesToKeep, 'pc1']\n",
    "               , predDf.loc[indicesToKeep, 'pc2']\n",
    "               , c = color\n",
    "               , s = 100\n",
    "              , marker=marker)\n",
    "ax.grid()\n",
    "fig.savefig('E:/Machine Learning/HW3/2PCA_kclustering_CARS.png')"
   ]
  },
  {
   "cell_type": "code",
   "execution_count": 18,
   "metadata": {},
   "outputs": [
    {
     "data": {
      "text/plain": [
       "GaussianMixture(covariance_type='full', init_params='kmeans', max_iter=100,\n",
       "        means_init=None, n_components=4, n_init=100, precisions_init=None,\n",
       "        random_state=3, reg_covar=1e-06, tol=0.0001, verbose=0,\n",
       "        verbose_interval=10, warm_start=False, weights_init=None)"
      ]
     },
     "execution_count": 18,
     "metadata": {},
     "output_type": "execute_result"
    }
   ],
   "source": [
    "EM_4pc=GaussianMixture(n_components=4,n_init=100,random_state=3,tol=0.0001)\n",
    "EM_4pc.fit(principalComponents)"
   ]
  },
  {
   "cell_type": "code",
   "execution_count": 19,
   "metadata": {},
   "outputs": [
    {
     "name": "stdout",
     "output_type": "stream",
     "text": [
      "0.44733796296296646\n",
      "[1, 3, 2, 0]\n"
     ]
    }
   ],
   "source": [
    "yp_k4pc=EM_4pc.predict(principalComponents)\n",
    "order=[[1,2,3,0],[1,2,0,3],[1,3,2,0],[1,3,0,2],[1,0,2,3],[1,0,3,2],[2,1,3,0],[2,1,0,3],[2,3,1,0],[2,3,0,1],[2,0,1,3],[2,0,3,1],\n",
    "       [3,1,2,0],[3,1,0,2],[3,2,1,0],[3,2,0,1],[3,0,1,2],[3,0,2,1],[0,1,2,3],[0,1,3,2],[0,2,1,3],[0,2,3,1],[0,3,1,2],[0,3,2,1]]\n",
    "accurate=0\n",
    "finalacc=0\n",
    "for k in order:\n",
    "    for i in range(len(y1)):\n",
    "        if yp_k4pc[i]==0 and y1[i]==k[0]:\n",
    "            accurate=accurate+1/len(y1)\n",
    "        elif yp_k4pc[i]==1 and y1[i]==k[1]:\n",
    "            accurate=accurate+1/len(y1)\n",
    "        elif yp_k4pc[i]==2 and y1[i]==k[2]:\n",
    "            accurate+=1/len(y1)\n",
    "        elif yp_k4pc[i]==3 and y1[i]==k[3]:\n",
    "            accurate+=1/len(y1)    \n",
    "    if accurate>finalacc:\n",
    "        finalacc=accurate\n",
    "        index2=k\n",
    "    accurate=0\n",
    "print(finalacc)\n",
    "print(index2)"
   ]
  },
  {
   "cell_type": "code",
   "execution_count": 20,
   "metadata": {
    "scrolled": true
   },
   "outputs": [
    {
     "data": {
      "image/png": "[encoded data removed]",
      "text/plain": [
       "<Figure size 576x576 with 1 Axes>"
      ]
     },
     "metadata": {},
     "output_type": "display_data"
    }
   ],
   "source": [
    "YP=pd.DataFrame(data=yp_k4pc, columns=\n",
    "                        ['pre_label'])\n",
    "predDf=pd.concat([principalDf,YP],axis=1)\n",
    "fig = plt.figure(figsize = (8,8))\n",
    "ax = fig.add_subplot(1,1,1) \n",
    "ax.set_xlabel('Principal Component 1', fontsize = 15)\n",
    "ax.set_ylabel('Principal Component 2', fontsize = 15)\n",
    "ax.set_title('PCA with EM Clustering Labels', fontsize = 20)\n",
    "targets = [1,3,2,0]\n",
    "colors = ['r','g','b','c']\n",
    "marker=['^','o','s','*']\n",
    "for target, color,marker in zip(targets,colors,marker):\n",
    "    indicesToKeep = predDf['pre_label'] == target\n",
    "    ax.scatter(predDf.loc[indicesToKeep, 'pc1']\n",
    "               , predDf.loc[indicesToKeep, 'pc2']\n",
    "               , c = color\n",
    "               , s = 100\n",
    "              , marker=marker)\n",
    "ax.grid()\n",
    "fig.savefig('E:/Machine Learning/HW3/2PCA_EMclustering_CARS.png')"
   ]
  },
  {
   "cell_type": "code",
   "execution_count": 252,
   "metadata": {},
   "outputs": [
    {
     "name": "stdout",
     "output_type": "stream",
     "text": [
      "0.4513888888888925\n",
      "[2, 0, 3, 1]\n"
     ]
    }
   ],
   "source": [
    "yp_E4ic=EM_4ic.predict(ICAComponents)\n",
    "order=[[1,2,3,0],[1,2,0,3],[1,3,2,0],[1,3,0,2],[1,0,2,3],[1,0,3,2],[2,1,3,0],[2,1,0,3],[2,3,1,0],[2,3,0,1],[2,0,1,3],[2,0,3,1],\n",
    "       [3,1,2,0],[3,1,0,2],[3,2,1,0],[3,2,0,1],[3,0,1,2],[3,0,2,1],[0,1,2,3],[0,1,3,2],[0,2,1,3],[0,2,3,1],[0,3,1,2],[0,3,2,1]]\n",
    "accurate=0\n",
    "finalacc=0\n",
    "for k in order:\n",
    "    for i in range(len(y1)):\n",
    "        if yp_E4ic[i]==0 and y1[i]==k[0]:\n",
    "            accuate=accurate+1/len(y1)\n",
    "        elif yp_E4ic[i]==1 and y1[i]==k[1]:\n",
    "            accurate=accurate+1/len(y1)\n",
    "        elif yp_E4ic[i]==2 and y1[i]==k[2]:\n",
    "            accurate+=1/len(y1)\n",
    "        elif yp_E4ic[i]==3 and y1[i]==k[3]:\n",
    "            accurate+=1/len(y1)    \n",
    "    if accurate>finalacc:\n",
    "        finalacc=accurate\n",
    "        index2=k\n",
    "    accurate=0\n",
    "print(finalacc)\n",
    "print(index2)"
   ]
  },
  {
   "cell_type": "code",
   "execution_count": 253,
   "metadata": {},
   "outputs": [],
   "source": []
  },
  {
   "cell_type": "code",
   "execution_count": 262,
   "metadata": {
    "scrolled": true
   },
   "outputs": [
    {
     "data": {
      "image/png": "[encoded data removed]",
      "text/plain": [
       "<Figure size 576x576 with 1 Axes>"
      ]
     },
     "metadata": {},
     "output_type": "display_data"
    }
   ],
   "source": [
    "fig = plt.figure(figsize = (8,8))\n",
    "ax = fig.add_subplot(1,1,1) \n",
    "ax.set_xlabel('Independent Component 1', fontsize = 15)\n",
    "ax.set_ylabel('Independent Component 2', fontsize = 15)\n",
    "ax.set_title('ICA with EM Clustering Labels', fontsize = 20)\n",
    "targets = [2,0]\n",
    "colors = ['r','g','b','c']\n",
    "marker=['^','o','s','*']\n",
    "for target, color,marker in zip(targets,colors,marker):\n",
    "    indicesToKeep = predDf['pre_label'] == target\n",
    "    ax.scatter(predDf.loc[indicesToKeep, 'Ic1']\n",
    "               , predDf.loc[indicesToKeep, 'Ic2']\n",
    "               , c = color\n",
    "               , s = 100\n",
    "              , marker=marker)\n",
    "ax.grid()\n",
    "fig.savefig('E:/Machine Learning/HW3/2ICA_EMclustering_CARS.png')"
   ]
  },
  {
   "cell_type": "code",
   "execution_count": null,
   "metadata": {},
   "outputs": [],
   "source": []
  }
 ],
 "metadata": {
  "kernelspec": {
   "display_name": "Python 3",
   "language": "python",
   "name": "python3"
  },
  "language_info": {
   "codemirror_mode": {
    "name": "ipython",
    "version": 3
   },
   "file_extension": ".py",
   "mimetype": "text/x-python",
   "name": "python",
   "nbconvert_exporter": "python",
   "pygments_lexer": "ipython3",
   "version": "3.6.5"
  }
 },
 "nbformat": 4,
 "nbformat_minor": 2
}
